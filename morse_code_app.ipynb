{
  "nbformat": 4,
  "nbformat_minor": 0,
  "metadata": {
    "colab": {
      "provenance": []
    },
    "kernelspec": {
      "name": "python3",
      "display_name": "Python 3"
    },
    "language_info": {
      "name": "python"
    }
  },
  "cells": [
    {
      "cell_type": "code",
      "execution_count": null,
      "metadata": {
        "id": "e8tty-T7ZhkX"
      },
      "outputs": [],
      "source": [
        "morse_code_dict = {\n",
        "    \"A\": \".-\",\n",
        "    \"B\": \"-...\",\n",
        "    \"C\": \"-.-.\",\n",
        "    \"D\": \"-..\",\n",
        "    \"E\": \".\",\n",
        "    \"F\": \"..-.\",\n",
        "    \"G\": \"--.\",\n",
        "    \"H\": \"....\",\n",
        "    \"I\": \"..\",\n",
        "    \"J\": \".---\",\n",
        "    \"K\": \"-.-\",\n",
        "    \"L\": \".-..\",\n",
        "    \"M\": \"--\",\n",
        "    \"N\": \"-.\",\n",
        "    \"O\": \"---\",\n",
        "    \"P\": \".--.\",\n",
        "    \"Q\": \"--.-\",\n",
        "    \"R\": \".-.\",\n",
        "    \"S\": \"...\",\n",
        "    \"T\": \"-\",\n",
        "    \"U\": \"..-\",\n",
        "    \"V\": \"...-\",\n",
        "    \"W\": \".--\",\n",
        "    \"X\": \"-..-\",\n",
        "    \"Y\": \"-.--\",\n",
        "    \"Z\": \"--..\",\n",
        "    \"0\": \"-----\",\n",
        "    \"1\": \".----\",\n",
        "    \"2\": \"..---\",\n",
        "    \"3\": \"...--\",\n",
        "    \"4\": \"....-\",\n",
        "    \"5\": \".....\",\n",
        "    \"6\": \"-....\",\n",
        "    \"7\": \"--...\",\n",
        "    \"8\": \"---..\",\n",
        "    \"9\": \"----.\"\n",
        "}\n",
        "\n",
        "\n",
        "def text_to_morse(text):\n",
        "\n",
        "  text = text.upper().replace(\" \", \"\")\n",
        "\n",
        "  morse = \"\"\n",
        "\n",
        "  for char in text:\n",
        "\n",
        "    if char in morse_code_dict:\n",
        "      morse += morse_code_dict[char] + \" \"\n",
        "\n",
        "  return morse\n",
        "\n",
        "\n",
        "def morse_to_text(morse):\n",
        "\n",
        "  morse_list = morse.split()\n",
        "\n",
        "  text = \"\"\n",
        "\n",
        "  for element in morse_list:\n",
        "\n",
        "    if element in morse_code_dict.values():\n",
        "      text += list(morse_code_dict.keys())[list(morse_code_dict.values()).index(element)]\n",
        "\n",
        "  return text\n",
        "\n",
        "\n",
        "print(text_to_morse(\"Hello\"))\n",
        "print(morse_to_text(\"....\"))\n"
      ]
    }
  ]
}